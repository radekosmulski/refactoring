{
 "cells": [
  {
   "cell_type": "markdown",
   "metadata": {},
   "source": [
    "This is heavily inspired by the first chapter from [Refactoring: Ruby Edition](https://www.goodreads.com/book/show/11560939-refactoring?from_search=true) by [Martin Fowler](https://twitter.com/martinfowler).\n",
    "\n",
    "I read the chapter, followed the examples and then closed the book and implemented this (this is how I learn). I include some notes below, but for a discussion of the underlying concepts (and how to integrate applying them into your or your team's workflow), you should get the book."
   ]
  },
  {
   "cell_type": "code",
   "execution_count": 2,
   "metadata": {},
   "outputs": [
    {
     "data": {
      "text/plain": [
       "true"
      ]
     },
     "execution_count": 2,
     "metadata": {},
     "output_type": "execute_result"
    }
   ],
   "source": [
    "load './micro_test.rb'"
   ]
  },
  {
   "cell_type": "markdown",
   "metadata": {},
   "source": [
    "> If you encounter a situation where you need to add a feature to a program, but the code is structured in such a way as to make it inconvenient, you should first refactor the program to make it easy to add the feature and then add the feature.\n",
    "\n",
    "> But you should not start making changes unless you have a good set of tests documenting current behavior. Refactoring poorly written code without tests is like walking onto a minefield and hoping for the best. "
   ]
  },
  {
   "cell_type": "markdown",
   "metadata": {},
   "source": [
    "Tests is where we will start then. Here is the initial version of the code that we will refactor."
   ]
  },
  {
   "cell_type": "code",
   "execution_count": 3,
   "metadata": {},
   "outputs": [
    {
     "data": {
      "text/plain": [
       ":summary"
      ]
     },
     "execution_count": 3,
     "metadata": {},
     "output_type": "execute_result"
    }
   ],
   "source": [
    "class Weapon\n",
    "  WOODEN = 0\n",
    "  BRONZE = 1\n",
    "  ADAMANTIUM = 2\n",
    "  \n",
    "  attr_reader :name, :type\n",
    "  \n",
    "  def initialize(name, type)\n",
    "    @name, @type = name, type\n",
    "  end\n",
    "end\n",
    "\n",
    "class Inventory\n",
    "  attr_reader :weapons\n",
    "  \n",
    "  def initialize\n",
    "    @weapons = []\n",
    "  end\n",
    "  \n",
    "  def add(weapon)\n",
    "    @weapons << weapon\n",
    "  end\n",
    "end\n",
    "\n",
    "class Ork\n",
    "  attr_reader :name, :inventory\n",
    "  \n",
    "  def initialize(name)\n",
    "    @name = name\n",
    "    @inventory = Inventory.new\n",
    "  end\n",
    "  \n",
    "  def summary\n",
    "    result = \"This is a scruffy looking Ork, that goes by the name of #{name}\\n\"\n",
    "    result += \"It carries the following weapons:\\n\"\n",
    "    \n",
    "    total_damage, total_bonus_damage_against_armored = 0, 0\n",
    "    inventory.weapons.each do |weapon|\n",
    "      this_bonus = 0\n",
    "      case weapon.type\n",
    "      when Weapon::WOODEN\n",
    "        this_damage = 2\n",
    "      when Weapon::BRONZE\n",
    "        this_damage = 4\n",
    "      when Weapon::ADAMANTIUM\n",
    "        this_damage = 3\n",
    "        this_bonus = 4\n",
    "      end\n",
    "        \n",
    "      result += \"- #{weapon.name}, damage: #{this_damage}, bonus against armored: #{this_bonus}\\n\"\n",
    "      total_damage += this_damage\n",
    "      total_bonus_damage_against_armored += this_bonus\n",
    "    end\n",
    "    \n",
    "    result += \"It can deal a total damage of #{total_damage} \"\n",
    "    result += \"with a #{total_bonus_damage_against_armored} bonus against armored.\\n\"\n",
    "  end\n",
    "end"
   ]
  },
  {
   "cell_type": "markdown",
   "metadata": {},
   "source": [
    "Let's see what our code does"
   ]
  },
  {
   "cell_type": "code",
   "execution_count": 4,
   "metadata": {},
   "outputs": [
    {
     "name": "stdout",
     "output_type": "stream",
     "text": [
      "This is a scruffy looking Ork, that goes by the name of Richard\n",
      "It carries the following weapons:\n",
      "- Blade of Fury, damage: 2, bonus against armored: 0\n",
      "- Knife of Summoning, damage: 3, bonus against armored: 4\n",
      "It can deal a total damage of 5 with a 4 bonus against armored.\n",
      "\n"
     ]
    }
   ],
   "source": [
    "ork = Ork.new('Richard')\n",
    "ork.inventory.add(Weapon.new('Blade of Fury', 0))\n",
    "ork.inventory.add(Weapon.new('Knife of Summoning', 2))\n",
    "puts ork.summary()"
   ]
  },
  {
   "cell_type": "markdown",
   "metadata": {},
   "source": [
    "The tests below are rudimentary, but that is okay. How much coverage you want will depend on the type of problem you are working on, who you work with, etc.\n",
    "\n",
    "Here, this should be enough for our purposes."
   ]
  },
  {
   "cell_type": "code",
   "execution_count": 5,
   "metadata": {},
   "outputs": [
    {
     "data": {
      "text/plain": [
       ":run_tests"
      ]
     },
     "execution_count": 5,
     "metadata": {},
     "output_type": "execute_result"
    }
   ],
   "source": [
    "def run_tests\n",
    "  describe 'with no weapons' do\n",
    "    assert('summary is correct') do\n",
    "      ork = Ork.new('Richard').summary ==\n",
    "        \"This is a scruffy looking Ork, that goes by the name of Richard\\nIt carries the following weapons:\\nIt can deal a total damage of 0 with a 0 bonus against armored.\\n\"\n",
    "    end\n",
    "  end\n",
    "\n",
    "  describe 'with a single weapon' do\n",
    "    assert('summary is correct for a WOODEN weapon') do\n",
    "      ork = Ork.new('Mary')\n",
    "      ork.inventory.add(Weapon.new('Blade of Fury', 0))\n",
    "      ork.summary() == \n",
    "        \"This is a scruffy looking Ork, that goes by the name of Mary\\nIt carries the following weapons:\\n- Blade of Fury, damage: 2, bonus against armored: 0\\nIt can deal a total damage of 2 with a 0 bonus against armored.\\n\"\n",
    "    end\n",
    "    \n",
    "    assert('summary is correct for a BRONZE weapon') do\n",
    "      ork = Ork.new('Joe')\n",
    "      ork.inventory.add(Weapon.new('Knife of Summoning', 1))\n",
    "      ork.summary() == \n",
    "        \"This is a scruffy looking Ork, that goes by the name of Joe\\nIt carries the following weapons:\\n- Knife of Summoning, damage: 4, bonus against armored: 0\\nIt can deal a total damage of 4 with a 0 bonus against armored.\\n\"\n",
    "    end\n",
    "     \n",
    "    assert('summary is correct for an ADAMANTIUM weapon') do\n",
    "      ork = Ork.new('Tobias')\n",
    "      ork.inventory.add(Weapon.new('Holy Needle of Piercing', 2))\n",
    "      ork.summary() == \n",
    "        \"This is a scruffy looking Ork, that goes by the name of Tobias\\nIt carries the following weapons:\\n- Holy Needle of Piercing, damage: 3, bonus against armored: 4\\nIt can deal a total damage of 3 with a 4 bonus against armored.\\n\"\n",
    "    end\n",
    "  end\n",
    "  \n",
    "  describe 'with multiple weapons' do\n",
    "      assert('summary is correct for a WOODEN and an ADAMANTIUM weapon') do\n",
    "      ork = Ork.new('Natalie')\n",
    "      ork.inventory.add(Weapon.new('Blade of Fury', 0))\n",
    "      ork.inventory.add(Weapon.new('Holy Needle of Piercing', 2))\n",
    "      ork.summary() == \n",
    "        \"This is a scruffy looking Ork, that goes by the name of Natalie\\nIt carries the following weapons:\\n- Blade of Fury, damage: 2, bonus against armored: 0\\n- Holy Needle of Piercing, damage: 3, bonus against armored: 4\\nIt can deal a total damage of 5 with a 4 bonus against armored.\\n\"\n",
    "    end\n",
    "  end\n",
    "end"
   ]
  },
  {
   "cell_type": "code",
   "execution_count": 6,
   "metadata": {},
   "outputs": [],
   "source": [
    "run_tests"
   ]
  },
  {
   "cell_type": "markdown",
   "metadata": {},
   "source": [
    "### Extract Method"
   ]
  },
  {
   "cell_type": "markdown",
   "metadata": {},
   "source": [
    "Extracting a method means the original method becomes more cohesive, in line with the Single Responsibility Pattern.\n",
    "\n",
    "This can also help with DRYing up the code (DRY = Don't Repeat Yourself).\n",
    "\n",
    "The inventory method is quite long and does a lot of things so let's see what we can do there."
   ]
  },
  {
   "cell_type": "code",
   "execution_count": 7,
   "metadata": {},
   "outputs": [
    {
     "data": {
      "text/plain": [
       ":damage_for"
      ]
     },
     "execution_count": 7,
     "metadata": {},
     "output_type": "execute_result"
    }
   ],
   "source": [
    "class Ork\n",
    "  def summary\n",
    "    result = \"This is a scruffy looking Ork, that goes by the name of #{name}\\n\"\n",
    "    result += \"It carries the following weapons:\\n\"\n",
    "    \n",
    "    total_damage, total_bonus_damage_against_armored = 0, 0\n",
    "    inventory.weapons.each do |weapon|\n",
    "      this_damage, this_bonus = damage_for(weapon)\n",
    "      result += \"- #{weapon.name}, damage: #{this_damage}, bonus against armored: #{this_bonus}\\n\"\n",
    "      total_damage += this_damage\n",
    "      total_bonus_damage_against_armored += this_bonus\n",
    "    end\n",
    "    \n",
    "    result += \"It can deal a total damage of #{total_damage} \"\n",
    "    result += \"with a #{total_bonus_damage_against_armored} bonus against armored.\\n\"\n",
    "  end\n",
    "  \n",
    "  def damage_for(weapon)\n",
    "    this_bonus = 0\n",
    "    case weapon.type\n",
    "    when Weapon::WOODEN\n",
    "      this_damage = 2\n",
    "    when Weapon::BRONZE\n",
    "      this_damage = 4\n",
    "    when Weapon::ADAMANTIUM\n",
    "      this_damage = 3\n",
    "      this_bonus = 4\n",
    "    end\n",
    "    \n",
    "    [this_damage, this_bonus]\n",
    "  end   \n",
    "end"
   ]
  },
  {
   "cell_type": "code",
   "execution_count": 8,
   "metadata": {},
   "outputs": [],
   "source": [
    "run_tests"
   ]
  },
  {
   "cell_type": "markdown",
   "metadata": {},
   "source": [
    "### Move Method"
   ]
  },
  {
   "cell_type": "markdown",
   "metadata": {},
   "source": [
    "> In most cases a method should be on the object whose data it uses."
   ]
  },
  {
   "cell_type": "markdown",
   "metadata": {},
   "source": [
    "Again, this is the Single Responsibility Pattern at work.\n",
    "\n",
    "The `damage_for` method relies on data that lives on the weapon, so let us move this method there. I also think it makes sense to split the method up (again, SRP)."
   ]
  },
  {
   "cell_type": "code",
   "execution_count": 9,
   "metadata": {},
   "outputs": [
    {
     "data": {
      "text/plain": [
       ":summary"
      ]
     },
     "execution_count": 9,
     "metadata": {},
     "output_type": "execute_result"
    }
   ],
   "source": [
    "class Weapon\n",
    "  def damage\n",
    "    case type\n",
    "    when WOODEN\n",
    "      return 2\n",
    "    when BRONZE\n",
    "      return 4\n",
    "    when ADAMANTIUM\n",
    "      return 3\n",
    "    end\n",
    "  end\n",
    "  \n",
    "  def bonus_damage_against_armored\n",
    "    type == ADAMANTIUM ? 4 : 0\n",
    "  end\n",
    "end\n",
    "\n",
    "class Ork\n",
    "  def summary\n",
    "    result = \"This is a scruffy looking Ork, that goes by the name of #{name}\\n\"\n",
    "    result += \"It carries the following weapons:\\n\"\n",
    "    \n",
    "    total_damage, total_bonus_damage_against_armored = 0, 0\n",
    "    inventory.weapons.each do |weapon|\n",
    "      result += \"- #{weapon.name}, damage: #{weapon.damage}, bonus against armored: #{weapon.bonus_damage_against_armored}\\n\"\n",
    "      total_damage += weapon.damage\n",
    "      total_bonus_damage_against_armored += weapon.bonus_damage_against_armored\n",
    "    end\n",
    "    \n",
    "    result += \"It can deal a total damage of #{total_damage} \"\n",
    "    result += \"with a #{total_bonus_damage_against_armored} bonus against armored.\\n\"\n",
    "  end \n",
    "end"
   ]
  },
  {
   "cell_type": "code",
   "execution_count": 10,
   "metadata": {},
   "outputs": [],
   "source": [
    "run_tests"
   ]
  },
  {
   "cell_type": "markdown",
   "metadata": {},
   "source": [
    "### Replace Temp with Query"
   ]
  },
  {
   "cell_type": "markdown",
   "metadata": {},
   "source": [
    "Temporary variables can make methods longer, which make them harder to reason about. That makes a method also harder to test, though that consideration is secondary. There is also more mutable state which can lead to subtle bugs.\n",
    "\n",
    "A long method (usually) goes against the SRP.\n",
    "\n",
    "Let's extract total_bonus and total_damage."
   ]
  },
  {
   "cell_type": "code",
   "execution_count": 11,
   "metadata": {},
   "outputs": [
    {
     "data": {
      "text/plain": [
       ":summary"
      ]
     },
     "execution_count": 11,
     "metadata": {},
     "output_type": "execute_result"
    }
   ],
   "source": [
    "class Inventory\n",
    "  def damage\n",
    "    damage = 0\n",
    "    weapons.each do |weapon|\n",
    "      damage += weapon.damage\n",
    "    end\n",
    "    damage\n",
    "  end\n",
    "  \n",
    "  def bonus_damage_against_armored\n",
    "    bonus_damage = 0\n",
    "    weapons.each do |weapon|\n",
    "      bonus_damage += weapon.bonus_damage_against_armored\n",
    "    end\n",
    "    bonus_damage\n",
    "  end\n",
    "end\n",
    "\n",
    "class Ork\n",
    "  def summary\n",
    "    result = \"This is a scruffy looking Ork, that goes by the name of #{name}\\n\"\n",
    "    result += \"It carries the following weapons:\\n\"\n",
    "    \n",
    "    inventory.weapons.each do |weapon|\n",
    "      result += \"- #{weapon.name}, damage: #{weapon.damage}, \"\n",
    "      result += \"bonus against armored: #{weapon.bonus_damage_against_armored}\\n\"\n",
    "    end\n",
    "    \n",
    "    result += \"It can deal a total damage of #{inventory.damage} \"\n",
    "    result += \"with a #{inventory.bonus_damage_against_armored} bonus against armored.\\n\"\n",
    "  end\n",
    "end"
   ]
  },
  {
   "cell_type": "code",
   "execution_count": 12,
   "metadata": {},
   "outputs": [],
   "source": [
    "run_tests"
   ]
  },
  {
   "cell_type": "markdown",
   "metadata": {},
   "source": [
    "### [Collection Closure Method / Collection Lambda](https://refactoring.com/catalog/replaceLoopWithCollectionClosureMethod.html)"
   ]
  },
  {
   "cell_type": "markdown",
   "metadata": {},
   "source": [
    "I have seen this pattern so often and it is one of my favorites. Why are [Collection Pipelines](https://martinfowler.com/articles/collection-pipeline/) so great?\n",
    "\n",
    "They make your code shorter, easier to reason about and are infinitely (within reason) composable."
   ]
  },
  {
   "cell_type": "code",
   "execution_count": 13,
   "metadata": {},
   "outputs": [
    {
     "data": {
      "text/plain": [
       ":bonus_damage_against_armored"
      ]
     },
     "execution_count": 13,
     "metadata": {},
     "output_type": "execute_result"
    }
   ],
   "source": [
    "class Inventory\n",
    "  def damage\n",
    "    weapons.inject(0) { |memo, weapon| memo += weapon.damage }\n",
    "  end\n",
    "  \n",
    "  def bonus_damage_against_armored\n",
    "    weapons.inject(0) { |memo, weapon| memo += weapon.bonus_damage_against_armored }\n",
    "  end\n",
    "end"
   ]
  },
  {
   "cell_type": "code",
   "execution_count": 14,
   "metadata": {},
   "outputs": [],
   "source": [
    "run_tests"
   ]
  },
  {
   "cell_type": "markdown",
   "metadata": {},
   "source": [
    "### [Replace Type Code with Subclasses](https://refactoring.com/catalog/replaceTypeCodeWithSubclasses.html)"
   ]
  },
  {
   "cell_type": "markdown",
   "metadata": {},
   "source": [
    "This also seems to deal with SRP and making our classes more cohesive. The advantages of doing this are that code is easier to change and extend.\n",
    "\n",
    "Doing this is probably an overkill, but if there was more conditional logic relying on Weapon type, this would be more warranted."
   ]
  },
  {
   "cell_type": "code",
   "execution_count": 15,
   "metadata": {},
   "outputs": [
    {
     "data": {
      "text/plain": [
       ":bonus_damage_against_armored"
      ]
     },
     "execution_count": 15,
     "metadata": {},
     "output_type": "execute_result"
    }
   ],
   "source": [
    "class Weapon\n",
    "  attr_reader :name\n",
    "  \n",
    "  def initialize(name)\n",
    "    @name = name\n",
    "  end\n",
    "  \n",
    "  def damage\n",
    "    raise NotImplementedError\n",
    "  end\n",
    "  \n",
    "  def bonus_damage_against_armored\n",
    "    raise NotImplementedError\n",
    "  end\n",
    "end\n",
    "\n",
    "class RegularWeapon < Weapon\n",
    "  def bonus_damage_against_armored\n",
    "    0\n",
    "  end\n",
    "end\n",
    "\n",
    "class WoodenWeapon < RegularWeapon\n",
    "  def damage\n",
    "    2\n",
    "  end\n",
    "end\n",
    "\n",
    "class BronzeWeapon < RegularWeapon\n",
    "  def damage\n",
    "    4\n",
    "  end\n",
    "end\n",
    "\n",
    "class AdamantiumWeapon < Weapon\n",
    "  def damage\n",
    "    3\n",
    "  end\n",
    "  \n",
    "  def bonus_damage_against_armored\n",
    "    4\n",
    "  end\n",
    "end"
   ]
  },
  {
   "cell_type": "markdown",
   "metadata": {},
   "source": [
    "Unfortunately we need to change our tests to accomodate the change."
   ]
  },
  {
   "cell_type": "code",
   "execution_count": 16,
   "metadata": {},
   "outputs": [
    {
     "data": {
      "text/plain": [
       ":run_tests"
      ]
     },
     "execution_count": 16,
     "metadata": {},
     "output_type": "execute_result"
    }
   ],
   "source": [
    "def run_tests\n",
    "  describe 'with no weapons' do\n",
    "    assert('summary is correct') do\n",
    "      ork = Ork.new('Richard').summary ==\n",
    "        \"This is a scruffy looking Ork, that goes by the name of Richard\\nIt carries the following weapons:\\nIt can deal a total damage of 0 with a 0 bonus against armored.\\n\"\n",
    "    end\n",
    "  end\n",
    "\n",
    "  describe 'with a single weapon' do\n",
    "    assert('summary is correct for a WOODEN weapon') do\n",
    "      ork = Ork.new('Mary')\n",
    "      ork.inventory.add(WoodenWeapon.new('Blade of Fury'))\n",
    "      ork.summary() == \n",
    "        \"This is a scruffy looking Ork, that goes by the name of Mary\\nIt carries the following weapons:\\n- Blade of Fury, damage: 2, bonus against armored: 0\\nIt can deal a total damage of 2 with a 0 bonus against armored.\\n\"\n",
    "    end\n",
    "    \n",
    "    assert('summary is correct for a BRONZE weapon') do\n",
    "      ork = Ork.new('Joe')\n",
    "      ork.inventory.add(BronzeWeapon.new('Knife of Summoning'))\n",
    "      ork.summary() == \n",
    "        \"This is a scruffy looking Ork, that goes by the name of Joe\\nIt carries the following weapons:\\n- Knife of Summoning, damage: 4, bonus against armored: 0\\nIt can deal a total damage of 4 with a 0 bonus against armored.\\n\"\n",
    "    end\n",
    "     \n",
    "    assert('summary is correct for an ADAMANTIUM weapon') do\n",
    "      ork = Ork.new('Tobias')\n",
    "      ork.inventory.add(AdamantiumWeapon.new('Holy Needle of Piercing'))\n",
    "      ork.summary() == \n",
    "        \"This is a scruffy looking Ork, that goes by the name of Tobias\\nIt carries the following weapons:\\n- Holy Needle of Piercing, damage: 3, bonus against armored: 4\\nIt can deal a total damage of 3 with a 4 bonus against armored.\\n\"\n",
    "    end\n",
    "  end\n",
    "  \n",
    "  describe 'with multiple weapons' do\n",
    "      assert('summary is correct for a WOODEN and an ADAMANTIUM weapon') do\n",
    "      ork = Ork.new('Natalie')\n",
    "      ork.inventory.add(WoodenWeapon.new('Blade of Fury'))\n",
    "      ork.inventory.add(AdamantiumWeapon.new('Holy Needle of Piercing'))\n",
    "      ork.summary() == \n",
    "        \"This is a scruffy looking Ork, that goes by the name of Natalie\\nIt carries the following weapons:\\n- Blade of Fury, damage: 2, bonus against armored: 0\\n- Holy Needle of Piercing, damage: 3, bonus against armored: 4\\nIt can deal a total damage of 5 with a 4 bonus against armored.\\n\"\n",
    "    end\n",
    "  end\n",
    "end"
   ]
  },
  {
   "cell_type": "code",
   "execution_count": 17,
   "metadata": {},
   "outputs": [],
   "source": [
    "run_tests"
   ]
  },
  {
   "cell_type": "markdown",
   "metadata": {},
   "source": [
    "### Putting it all together\n",
    "\n",
    "We did some monkey patching above. Let's copy all the code in one place to see what the final version of this would look like and whether it works (I restart the kernel before running the code below to be absolutely sure)"
   ]
  },
  {
   "cell_type": "code",
   "execution_count": 4,
   "metadata": {},
   "outputs": [
    {
     "data": {
      "text/plain": [
       ":summary"
      ]
     },
     "execution_count": 4,
     "metadata": {},
     "output_type": "execute_result"
    }
   ],
   "source": [
    "class Weapon\n",
    "  attr_reader :name\n",
    "  \n",
    "  def initialize(name)\n",
    "    @name = name\n",
    "  end\n",
    "  \n",
    "  def damage\n",
    "    raise NotImplementedError\n",
    "  end\n",
    "  \n",
    "  def bonus_damage_against_armored\n",
    "    raise NotImplementedError\n",
    "  end\n",
    "end\n",
    "\n",
    "class RegularWeapon < Weapon\n",
    "  def bonus_damage_against_armored\n",
    "    0\n",
    "  end\n",
    "end\n",
    "\n",
    "class WoodenWeapon < RegularWeapon\n",
    "  def damage\n",
    "    2\n",
    "  end\n",
    "end\n",
    "\n",
    "class BronzeWeapon < RegularWeapon\n",
    "  def damage\n",
    "    4\n",
    "  end\n",
    "end\n",
    "\n",
    "class AdamantiumWeapon < Weapon\n",
    "  def damage\n",
    "    3\n",
    "  end\n",
    "  \n",
    "  def bonus_damage_against_armored\n",
    "    4\n",
    "  end\n",
    "end\n",
    "\n",
    "class Inventory\n",
    "  attr_reader :weapons\n",
    "  \n",
    "  def initialize\n",
    "    @weapons = []\n",
    "  end\n",
    "  \n",
    "  def add(weapon)\n",
    "    @weapons << weapon\n",
    "  end\n",
    "  \n",
    "  def damage\n",
    "    weapons.inject(0) { |memo, weapon| memo += weapon.damage }\n",
    "  end\n",
    "  \n",
    "  def bonus_damage_against_armored\n",
    "    weapons.inject(0) { |memo, weapon| memo += weapon.bonus_damage_against_armored }\n",
    "  end\n",
    "end\n",
    "\n",
    "class Ork\n",
    "  attr_reader :name, :inventory\n",
    "  \n",
    "  def initialize(name)\n",
    "    @name = name\n",
    "    @inventory = Inventory.new\n",
    "  end\n",
    "  \n",
    "  def summary\n",
    "    result = \"This is a scruffy looking Ork, that goes by the name of #{name}\\n\"\n",
    "    result += \"It carries the following weapons:\\n\"\n",
    "    \n",
    "    inventory.weapons.each do |weapon|\n",
    "      result += \"- #{weapon.name}, damage: #{weapon.damage}, \"\n",
    "      result += \"bonus against armored: #{weapon.bonus_damage_against_armored}\\n\"\n",
    "    end\n",
    "    \n",
    "    result += \"It can deal a total damage of #{inventory.damage} \"\n",
    "    result += \"with a #{inventory.bonus_damage_against_armored} bonus against armored.\\n\"\n",
    "  end\n",
    "end"
   ]
  },
  {
   "cell_type": "code",
   "execution_count": 5,
   "metadata": {},
   "outputs": [],
   "source": [
    "run_tests"
   ]
  }
 ],
 "metadata": {
  "kernelspec": {
   "display_name": "Ruby 2.6.0",
   "language": "ruby",
   "name": "ruby"
  },
  "language_info": {
   "file_extension": ".rb",
   "mimetype": "application/x-ruby",
   "name": "ruby",
   "version": "2.6.0"
  }
 },
 "nbformat": 4,
 "nbformat_minor": 2
}
