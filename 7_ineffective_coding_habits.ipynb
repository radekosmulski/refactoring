{
 "cells": [
  {
   "cell_type": "markdown",
   "metadata": {},
   "source": [
    "## [7 Ineffective Coding Habits](https://www.youtube.com/results?search_query=kevin+hinley+seven+ineffective+coding) by Kevlin Henney\n",
    "\n",
    "([slides](https://www.slideshare.net/Kevlin/seven-ineffective-coding-habits-of-many-programmers))"
   ]
  },
  {
   "cell_type": "markdown",
   "metadata": {},
   "source": [
    "> \"It turns out that style matters in programming for the same reason that it matters in writing.\n",
    "It makes for better reading\"\n",
    "- Douglas Crockford, JavaScript: The Good Parts"
   ]
  },
  {
   "cell_type": "markdown",
   "metadata": {},
   "source": [
    "1. Low signal to noise ratio\n",
    "    - good code is like good prose:\n",
    "        - concise\n",
    "        - communicates with clarity\n",
    "        - to the point\n",
    "    - layer upon layer of indirection, imprecise word choices, beating around the bush, kills any writing, be that code or prose\n",
    "2. Excessive comments\n",
    "    - strive for code to be self documenting (names, clarity, etc)\n",
    "    - comments are rarely read even by humans, and are not read by computers! (compiler does not check them, they are not verified at runtime - high chance of them becoming out of sync as code changes)\n",
    "    "
   ]
  },
  {
   "cell_type": "markdown",
   "metadata": {},
   "source": [
    "> \"A common fallacy is to assume authors of incomprehensible code will somehow be able to express themselves lucidly an clearly in comments\"\n",
    "- Kevlin Henney"
   ]
  },
  {
   "cell_type": "markdown",
   "metadata": {},
   "source": [
    "3. Unsustainable spacing\n",
    "    - inconsistent spacing\n",
    "    - arranging code visually so that it is hard to read\n",
    "    - people read in columns from the left - things far out to the right are hard to see / process\n",
    "4. Ineffective naming\n",
    "    - Lego naming (agglutination) - process in which complex words are formed by stringing together morphemes\n",
    "    - Homeopathic naming - meaning diluted so much it disappears"
   ]
  },
  {
   "cell_type": "markdown",
   "metadata": {},
   "source": [
    "> \"Omit needless words.\"\n",
    "- William Strunk and E B Whyte, \"The Elements of Style\""
   ]
  },
  {
   "cell_type": "markdown",
   "metadata": {},
   "source": [
    "5. Underabstraction"
   ]
  },
  {
   "cell_type": "markdown",
   "metadata": {},
   "source": [
    "> \"Code in the Language of the Domain\"\n",
    "- Dan North, \"97 Things Every Programmer Should Know\""
   ]
  },
  {
   "cell_type": "markdown",
   "metadata": {},
   "source": [
    "6. Unencapsulated state\n",
    "    - make the surface of public interfaces as small as possible!"
   ]
  },
  {
   "cell_type": "markdown",
   "metadata": {},
   "source": [
    "7. Getters and setters\n",
    "    * avoid `get` and `set` in names, they are usually unnecessary"
   ]
  },
  {
   "cell_type": "markdown",
   "metadata": {},
   "source": [
    "8. Incohesive tests"
   ]
  },
  {
   "cell_type": "markdown",
   "metadata": {},
   "source": [
    "> \"Everybody knows that TDD stands for Test Driven Development. However, people too often concentrate on the words 'Test' and 'Development' and don't consider what the word Driven really implies. For tests to drive development they must do more than just test that code performs its required functionality: they must clearly express that desired functionality to the reader. That is, they must be clear specifications of the required functionality. Test that are not written with their role as specification in mind can be very confusing to read.\"\n",
    "- Nat Pryce and Steve Freeman, \"Are Your Tests Really Driving Your Development?\""
   ]
  }
 ],
 "metadata": {
  "kernelspec": {
   "display_name": "Python 3",
   "language": "python",
   "name": "python3"
  },
  "language_info": {
   "codemirror_mode": {
    "name": "ipython",
    "version": 3
   },
   "file_extension": ".py",
   "mimetype": "text/x-python",
   "name": "python",
   "nbconvert_exporter": "python",
   "pygments_lexer": "ipython3",
   "version": "3.7.1"
  }
 },
 "nbformat": 4,
 "nbformat_minor": 2
}
